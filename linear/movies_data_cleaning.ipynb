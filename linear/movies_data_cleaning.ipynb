{
 "cells": [
  {
   "cell_type": "code",
   "execution_count": 1,
   "metadata": {},
   "outputs": [],
   "source": [
    "# importing the library\n",
    "\n",
    "import pandas as pd"
   ]
  },
  {
   "cell_type": "code",
   "execution_count": 2,
   "metadata": {},
   "outputs": [],
   "source": [
    "# Reading the CSV file into a Dataframe\n",
    "\n",
    "data = pd.read_csv(\"cost_revenue_dirty.csv\")"
   ]
  },
  {
   "cell_type": "code",
   "execution_count": 3,
   "metadata": {},
   "outputs": [
    {
     "name": "stdout",
     "output_type": "stream",
     "text": [
      "      Rank Release Date                       Movie Title  \\\n",
      "0     5293     8/2/1915             The Birth of a Nation   \n",
      "2     5230   12/24/1916      20,000 Leagues Under the Sea   \n",
      "3     5299    9/17/1920    Over the Hill to the Poorhouse   \n",
      "4     5222     1/1/1925                    The Big Parade   \n",
      "5     4250   12/30/1925                           Ben-Hur   \n",
      "...    ...          ...                               ...   \n",
      "5378   914    10/2/2017               Fifty Shades Darker   \n",
      "5379  1295    10/2/2017            John Wick: Chapter Two   \n",
      "5380    70    10/3/2017                Kong: Skull Island   \n",
      "5381    94    12/5/2017  King Arthur: Legend of the Sword   \n",
      "5382  1254    12/5/2017                          Snatched   \n",
      "\n",
      "     Production Budget ($) Worldwide Gross ($) Domestic Gross ($)  \n",
      "0                 $110,000         $11,000,000        $10,000,000  \n",
      "2                 $200,000          $8,000,000         $8,000,000  \n",
      "3                 $100,000          $3,000,000         $3,000,000  \n",
      "4                 $245,000         $22,000,000        $11,000,000  \n",
      "5               $3,900,000          $9,000,000         $9,000,000  \n",
      "...                    ...                 ...                ...  \n",
      "5378           $55,000,000        $376,856,949       $114,434,010  \n",
      "5379           $40,000,000        $166,893,990        $92,029,184  \n",
      "5380          $185,000,000        $561,137,727       $168,052,812  \n",
      "5381          $175,000,000        $140,012,608        $39,175,066  \n",
      "5382           $42,000,000         $57,850,343        $45,850,343  \n",
      "\n",
      "[4879 rows x 6 columns]\n"
     ]
    }
   ],
   "source": [
    "# Dropping the rows that has value of 0$ in the Domstic Gross\n",
    "\n",
    "for x in data.index:\n",
    "  if (data.loc[x, 'Domestic Gross ($)'] == '$0'):\n",
    "    data.drop(x, inplace=True)\n",
    "print(data)"
   ]
  },
  {
   "cell_type": "code",
   "execution_count": 4,
   "metadata": {},
   "outputs": [
    {
     "name": "stdout",
     "output_type": "stream",
     "text": [
      "      Rank Release Date                       Movie Title  \\\n",
      "0     5293     8/2/1915             The Birth of a Nation   \n",
      "2     5230   12/24/1916      20,000 Leagues Under the Sea   \n",
      "3     5299    9/17/1920    Over the Hill to the Poorhouse   \n",
      "4     5222     1/1/1925                    The Big Parade   \n",
      "5     4250   12/30/1925                           Ben-Hur   \n",
      "...    ...          ...                               ...   \n",
      "5378   914    10/2/2017               Fifty Shades Darker   \n",
      "5379  1295    10/2/2017            John Wick: Chapter Two   \n",
      "5380    70    10/3/2017                Kong: Skull Island   \n",
      "5381    94    12/5/2017  King Arthur: Legend of the Sword   \n",
      "5382  1254    12/5/2017                          Snatched   \n",
      "\n",
      "     Production Budget ($) Worldwide Gross ($) Domestic Gross ($)  \n",
      "0                 $110,000          11,000,000        $10,000,000  \n",
      "2                 $200,000           8,000,000         $8,000,000  \n",
      "3                 $100,000           3,000,000         $3,000,000  \n",
      "4                 $245,000          22,000,000        $11,000,000  \n",
      "5               $3,900,000           9,000,000         $9,000,000  \n",
      "...                    ...                 ...                ...  \n",
      "5378           $55,000,000         376,856,949       $114,434,010  \n",
      "5379           $40,000,000         166,893,990        $92,029,184  \n",
      "5380          $185,000,000         561,137,727       $168,052,812  \n",
      "5381          $175,000,000         140,012,608        $39,175,066  \n",
      "5382           $42,000,000          57,850,343        $45,850,343  \n",
      "\n",
      "[4879 rows x 6 columns]\n"
     ]
    }
   ],
   "source": [
    "# Replacing the in dollar sign in the (Vlaues) with no_char\n",
    "\n",
    "for x in data.index:\n",
    "  data['Worldwide Gross ($)'] = data['Worldwide Gross ($)'].str.replace('$', '')\n",
    "print(data)"
   ]
  },
  {
   "cell_type": "code",
   "execution_count": 5,
   "metadata": {},
   "outputs": [
    {
     "name": "stdout",
     "output_type": "stream",
     "text": [
      "      Rank Release Date                       Movie Title  \\\n",
      "0     5293     8/2/1915             The Birth of a Nation   \n",
      "2     5230   12/24/1916      20,000 Leagues Under the Sea   \n",
      "3     5299    9/17/1920    Over the Hill to the Poorhouse   \n",
      "4     5222     1/1/1925                    The Big Parade   \n",
      "5     4250   12/30/1925                           Ben-Hur   \n",
      "...    ...          ...                               ...   \n",
      "5378   914    10/2/2017               Fifty Shades Darker   \n",
      "5379  1295    10/2/2017            John Wick: Chapter Two   \n",
      "5380    70    10/3/2017                Kong: Skull Island   \n",
      "5381    94    12/5/2017  King Arthur: Legend of the Sword   \n",
      "5382  1254    12/5/2017                          Snatched   \n",
      "\n",
      "     Production Budget ($) Worldwide Gross ($) Domestic Gross ($)  \n",
      "0                 $110,000            11000000        $10,000,000  \n",
      "2                 $200,000             8000000         $8,000,000  \n",
      "3                 $100,000             3000000         $3,000,000  \n",
      "4                 $245,000            22000000        $11,000,000  \n",
      "5               $3,900,000             9000000         $9,000,000  \n",
      "...                    ...                 ...                ...  \n",
      "5378           $55,000,000           376856949       $114,434,010  \n",
      "5379           $40,000,000           166893990        $92,029,184  \n",
      "5380          $185,000,000           561137727       $168,052,812  \n",
      "5381          $175,000,000           140012608        $39,175,066  \n",
      "5382           $42,000,000            57850343        $45,850,343  \n",
      "\n",
      "[4879 rows x 6 columns]\n"
     ]
    }
   ],
   "source": [
    "# Replacing the in comma in the (Vlaues) with no_char\n",
    "\n",
    "for x in data.index:\n",
    "  data['Worldwide Gross ($)'] = data['Worldwide Gross ($)'].str.replace(',', '')\n",
    "print(data)"
   ]
  },
  {
   "cell_type": "code",
   "execution_count": 6,
   "metadata": {},
   "outputs": [
    {
     "name": "stdout",
     "output_type": "stream",
     "text": [
      "      Rank Release Date                       Movie Title  \\\n",
      "0     5293     8/2/1915             The Birth of a Nation   \n",
      "2     5230   12/24/1916      20,000 Leagues Under the Sea   \n",
      "3     5299    9/17/1920    Over the Hill to the Poorhouse   \n",
      "4     5222     1/1/1925                    The Big Parade   \n",
      "5     4250   12/30/1925                           Ben-Hur   \n",
      "...    ...          ...                               ...   \n",
      "5378   914    10/2/2017               Fifty Shades Darker   \n",
      "5379  1295    10/2/2017            John Wick: Chapter Two   \n",
      "5380    70    10/3/2017                Kong: Skull Island   \n",
      "5381    94    12/5/2017  King Arthur: Legend of the Sword   \n",
      "5382  1254    12/5/2017                          Snatched   \n",
      "\n",
      "     Production Budget ($) Worldwide Gross ($) Domestic Gross ($)  \n",
      "0                  110,000            11000000        $10,000,000  \n",
      "2                  200,000             8000000         $8,000,000  \n",
      "3                  100,000             3000000         $3,000,000  \n",
      "4                  245,000            22000000        $11,000,000  \n",
      "5                3,900,000             9000000         $9,000,000  \n",
      "...                    ...                 ...                ...  \n",
      "5378            55,000,000           376856949       $114,434,010  \n",
      "5379            40,000,000           166893990        $92,029,184  \n",
      "5380           185,000,000           561137727       $168,052,812  \n",
      "5381           175,000,000           140012608        $39,175,066  \n",
      "5382            42,000,000            57850343        $45,850,343  \n",
      "\n",
      "[4879 rows x 6 columns]\n"
     ]
    }
   ],
   "source": [
    "# Replacing the in dollar sign in the (Vlaues) with no_char\n",
    "\n",
    "for x in data.index:\n",
    "  data['Production Budget ($)'] = data['Production Budget ($)'].str.replace('$', '')\n",
    "print(data)"
   ]
  },
  {
   "cell_type": "code",
   "execution_count": 7,
   "metadata": {},
   "outputs": [
    {
     "name": "stdout",
     "output_type": "stream",
     "text": [
      "      Rank Release Date                       Movie Title  \\\n",
      "0     5293     8/2/1915             The Birth of a Nation   \n",
      "2     5230   12/24/1916      20,000 Leagues Under the Sea   \n",
      "3     5299    9/17/1920    Over the Hill to the Poorhouse   \n",
      "4     5222     1/1/1925                    The Big Parade   \n",
      "5     4250   12/30/1925                           Ben-Hur   \n",
      "...    ...          ...                               ...   \n",
      "5378   914    10/2/2017               Fifty Shades Darker   \n",
      "5379  1295    10/2/2017            John Wick: Chapter Two   \n",
      "5380    70    10/3/2017                Kong: Skull Island   \n",
      "5381    94    12/5/2017  King Arthur: Legend of the Sword   \n",
      "5382  1254    12/5/2017                          Snatched   \n",
      "\n",
      "     Production Budget ($) Worldwide Gross ($) Domestic Gross ($)  \n",
      "0                   110000            11000000        $10,000,000  \n",
      "2                   200000             8000000         $8,000,000  \n",
      "3                   100000             3000000         $3,000,000  \n",
      "4                   245000            22000000        $11,000,000  \n",
      "5                  3900000             9000000         $9,000,000  \n",
      "...                    ...                 ...                ...  \n",
      "5378              55000000           376856949       $114,434,010  \n",
      "5379              40000000           166893990        $92,029,184  \n",
      "5380             185000000           561137727       $168,052,812  \n",
      "5381             175000000           140012608        $39,175,066  \n",
      "5382              42000000            57850343        $45,850,343  \n",
      "\n",
      "[4879 rows x 6 columns]\n"
     ]
    }
   ],
   "source": [
    "# Replacing the in comma sign in the (Vlaues) with no_char\n",
    "\n",
    "for x in data.index:\n",
    "  data['Production Budget ($)'] = data['Production Budget ($)'].str.replace(',', '')\n",
    "print(data)"
   ]
  },
  {
   "cell_type": "code",
   "execution_count": 8,
   "metadata": {},
   "outputs": [
    {
     "name": "stdout",
     "output_type": "stream",
     "text": [
      "     Production Budget ($) Worldwide Gross ($)\n",
      "0                   110000            11000000\n",
      "2                   200000             8000000\n",
      "3                   100000             3000000\n",
      "4                   245000            22000000\n",
      "5                  3900000             9000000\n",
      "...                    ...                 ...\n",
      "5378              55000000           376856949\n",
      "5379              40000000           166893990\n",
      "5380             185000000           561137727\n",
      "5381             175000000           140012608\n",
      "5382              42000000            57850343\n",
      "\n",
      "[4879 rows x 2 columns]\n"
     ]
    }
   ],
   "source": [
    "# Assinging just the 2 needed columns and printing them\n",
    "\n",
    "data = data[['Production Budget ($)', 'Worldwide Gross ($)']]\n",
    "print(data)"
   ]
  },
  {
   "cell_type": "code",
   "execution_count": 9,
   "metadata": {},
   "outputs": [
    {
     "name": "stdout",
     "output_type": "stream",
     "text": [
      "     production budget ($) worldwide gross ($)\n",
      "0                   110000            11000000\n",
      "2                   200000             8000000\n",
      "3                   100000             3000000\n",
      "4                   245000            22000000\n",
      "5                  3900000             9000000\n",
      "...                    ...                 ...\n",
      "5378              55000000           376856949\n",
      "5379              40000000           166893990\n",
      "5380             185000000           561137727\n",
      "5381             175000000           140012608\n",
      "5382              42000000            57850343\n",
      "\n",
      "[4879 rows x 2 columns]\n"
     ]
    }
   ],
   "source": [
    "# All columns names to lower\n",
    "\n",
    "data.columns = data.columns.str.lower()\n",
    "print(data)"
   ]
  },
  {
   "cell_type": "code",
   "execution_count": 10,
   "metadata": {},
   "outputs": [
    {
     "name": "stdout",
     "output_type": "stream",
     "text": [
      "     production budget () worldwide gross ()\n",
      "0                  110000           11000000\n",
      "2                  200000            8000000\n",
      "3                  100000            3000000\n",
      "4                  245000           22000000\n",
      "5                 3900000            9000000\n",
      "...                   ...                ...\n",
      "5378             55000000          376856949\n",
      "5379             40000000          166893990\n",
      "5380            185000000          561137727\n",
      "5381            175000000          140012608\n",
      "5382             42000000           57850343\n",
      "\n",
      "[4879 rows x 2 columns]\n"
     ]
    }
   ],
   "source": [
    "# Replacing the in dollar sign in the (Column Name) with no_char\n",
    "\n",
    "data.columns = data.columns.str.replace('$', '')\n",
    "print(data)"
   ]
  },
  {
   "cell_type": "code",
   "execution_count": 11,
   "metadata": {},
   "outputs": [
    {
     "name": "stdout",
     "output_type": "stream",
     "text": [
      "     production budget ) worldwide gross )\n",
      "0                 110000          11000000\n",
      "2                 200000           8000000\n",
      "3                 100000           3000000\n",
      "4                 245000          22000000\n",
      "5                3900000           9000000\n",
      "...                  ...               ...\n",
      "5378            55000000         376856949\n",
      "5379            40000000         166893990\n",
      "5380           185000000         561137727\n",
      "5381           175000000         140012608\n",
      "5382            42000000          57850343\n",
      "\n",
      "[4879 rows x 2 columns]\n"
     ]
    }
   ],
   "source": [
    "# Replacing the Left_Bracket char in the (Column Name) with no_char\n",
    "\n",
    "data.columns = data.columns.str.replace('(', '')\n",
    "print(data)"
   ]
  },
  {
   "cell_type": "code",
   "execution_count": 12,
   "metadata": {},
   "outputs": [
    {
     "name": "stdout",
     "output_type": "stream",
     "text": [
      "     production budget  worldwide gross \n",
      "0                110000         11000000\n",
      "2                200000          8000000\n",
      "3                100000          3000000\n",
      "4                245000         22000000\n",
      "5               3900000          9000000\n",
      "...                 ...              ...\n",
      "5378           55000000        376856949\n",
      "5379           40000000        166893990\n",
      "5380          185000000        561137727\n",
      "5381          175000000        140012608\n",
      "5382           42000000         57850343\n",
      "\n",
      "[4879 rows x 2 columns]\n"
     ]
    }
   ],
   "source": [
    "# Replacing the Right_Bracket char in the (Column Name) with no_char\n",
    "\n",
    "data.columns = data.columns.str.replace(')', '')\n",
    "print(data)"
   ]
  },
  {
   "cell_type": "code",
   "execution_count": 13,
   "metadata": {},
   "outputs": [
    {
     "name": "stdout",
     "output_type": "stream",
     "text": [
      "     production budget worldwide gross\n",
      "0               110000        11000000\n",
      "2               200000         8000000\n",
      "3               100000         3000000\n",
      "4               245000        22000000\n",
      "5              3900000         9000000\n",
      "...                ...             ...\n",
      "5378          55000000       376856949\n",
      "5379          40000000       166893990\n",
      "5380         185000000       561137727\n",
      "5381         175000000       140012608\n",
      "5382          42000000        57850343\n",
      "\n",
      "[4879 rows x 2 columns]\n"
     ]
    }
   ],
   "source": [
    "# Deleting the end space in the columns name\n",
    "\n",
    "data.columns = data.columns.str.rstrip()\n",
    "print(data)"
   ]
  },
  {
   "cell_type": "code",
   "execution_count": 14,
   "metadata": {},
   "outputs": [
    {
     "name": "stdout",
     "output_type": "stream",
     "text": [
      "     production_budget worldwide_gross\n",
      "0               110000        11000000\n",
      "2               200000         8000000\n",
      "3               100000         3000000\n",
      "4               245000        22000000\n",
      "5              3900000         9000000\n",
      "...                ...             ...\n",
      "5378          55000000       376856949\n",
      "5379          40000000       166893990\n",
      "5380         185000000       561137727\n",
      "5381         175000000       140012608\n",
      "5382          42000000        57850343\n",
      "\n",
      "[4879 rows x 2 columns]\n"
     ]
    }
   ],
   "source": [
    "# Replacing the space in the columns names with an underscore\n",
    "\n",
    "data.columns = data.columns.str.replace(' ', '_')\n",
    "print(data)"
   ]
  },
  {
   "cell_type": "code",
   "execution_count": 15,
   "metadata": {},
   "outputs": [],
   "source": [
    "# Creating a CSV file from the cleaned Dataframe\n",
    "\n",
    "data.to_csv('cleaned_data.csv')"
   ]
  }
 ],
 "metadata": {
  "kernelspec": {
   "display_name": "base",
   "language": "python",
   "name": "python3"
  },
  "language_info": {
   "codemirror_mode": {
    "name": "ipython",
    "version": 3
   },
   "file_extension": ".py",
   "mimetype": "text/x-python",
   "name": "python",
   "nbconvert_exporter": "python",
   "pygments_lexer": "ipython3",
   "version": "3.8.5"
  }
 },
 "nbformat": 4,
 "nbformat_minor": 2
}
